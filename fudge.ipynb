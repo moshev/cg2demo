{
 "metadata": {
  "name": "",
  "signature": "sha256:a8e0438607d4269a186676b6b06746126fad236a173c037889a015891cb61d66"
 },
 "nbformat": 3,
 "nbformat_minor": 0,
 "worksheets": [
  {
   "cells": [
    {
     "cell_type": "code",
     "collapsed": false,
     "input": [
      "import sdl2\n",
      "import sys\n",
      "import threading\n",
      "import time\n",
      "import queue\n",
      "import util\n",
      "import numpy\n",
      "from sdl2 import *\n",
      "if (SDL_InitSubSystem(SDL_INIT_VIDEO) != 0):\n",
      "    print(\"WAAH!\")\n",
      "    sys.exit(1);\n",
      "\n",
      "VS_SRC = br'''\n",
      "#version 120\n",
      "\n",
      "attribute vec2 p;\n",
      "varying vec4 ray;\n",
      "\n",
      "void main() {\n",
      "    vec4 pos = gl_ModelViewProjectionMatrix * vec4(p, 0.0, 1.0);\n",
      "    ray = vec4(vec2(0.5, 0.5) - p, -1.0, 1.0);\n",
      "    ray = normalize(ray);\n",
      "    gl_Position = pos;\n",
      "}\n",
      "'''\n",
      "\n",
      "\n",
      "FS_SRC = br'''\n",
      "#version 120\n",
      "\n",
      "verying vec4 ray;\n",
      "\n",
      "void main() {\n",
      "    gl_FragColor = vec4(0.5, 0.5, -0.5, 1.0) + ray;\n",
      "}\n",
      "'''\n"
     ],
     "language": "python",
     "metadata": {},
     "outputs": [],
     "prompt_number": 17
    },
    {
     "cell_type": "code",
     "collapsed": false,
     "input": [
      "\n",
      "def render_thread(window, q):\n",
      "    import time\n",
      "    import queue\n",
      "    import OpenGL\n",
      "    import OpenGL.GL\n",
      "    from OpenGL import GL\n",
      "    escape = False\n",
      "    FRAME_TIME = 1.0 / 60.0\n",
      "    C = SDL_GL_CreateContext(window)\n",
      "    SDL_GL_MakeCurrent(window, C)\n",
      "    GL.glClearColor(0, 0, 0, 1)\n",
      "    QUAD = util.GLBuffer(12)\n",
      "    QUAD[:] = numpy.array([0, 0, 0,\n",
      "                           1, 0, 0,\n",
      "                           1, 1, 0,\n",
      "                           0, 1, 0],\n",
      "            dtype=numpy.float32);\n",
      "    q.put('ready')\n",
      "    while True:\n",
      "        try:\n",
      "            evt = q.get_nowait()\n",
      "        except queue.Empty:\n",
      "            evt = False\n",
      "        if evt == 'escape':\n",
      "            SDL_GL_DeleteContext(C)\n",
      "            return\n",
      "        t_start = time.monotonic()\n",
      "        GL.glClear(GL.GL_COLOR_BUFFER_BIT)\n",
      "        SDL_GL_SwapWindow(window)\n",
      "        t_end = time.monotonic()\n",
      "        t_sleep = FRAME_TIME - (t_end - t_start)\n",
      "        if t_sleep > 0:\n",
      "            time.sleep(t_sleep)"
     ],
     "language": "python",
     "metadata": {},
     "outputs": [],
     "prompt_number": 18
    },
    {
     "cell_type": "code",
     "collapsed": false,
     "input": [
      "def escape(T, Q, window):\n",
      "    try:\n",
      "        Q.put_nowait('escape')\n",
      "    except queue.Full:\n",
      "        pass\n",
      "    try:\n",
      "        T.join(timeout=10)\n",
      "    except Exception as e:\n",
      "        print(e)\n",
      "\n",
      "    SDL_DestroyWindow(window)"
     ],
     "language": "python",
     "metadata": {},
     "outputs": [],
     "prompt_number": 19
    },
    {
     "cell_type": "code",
     "collapsed": false,
     "input": [
      "for channel in (SDL_GL_RED_SIZE, SDL_GL_GREEN_SIZE, SDL_GL_BLUE_SIZE):\n",
      "    SDL_GL_SetAttribute(channel, 8)\n",
      "SDL_GL_SetAttribute(SDL_GL_ACCELERATED_VISUAL, 1)\n",
      "\n",
      "window = SDL_CreateWindow(b\"Super Special Awesome Demo\", SDL_WINDOWPOS_UNDEFINED, SDL_WINDOWPOS_UNDEFINED, 1024, 768,\n",
      "                          SDL_WINDOW_OPENGL | SDL_WINDOW_ALLOW_HIGHDPI | SDL_WINDOW_RESIZABLE)\n",
      "Q = queue.Queue(16)\n",
      "T = threading.Thread(target=render_thread, args=(window,Q))\n",
      "T.start()\n",
      "try:\n",
      "    ready = Q.get(timeout=5)\n",
      "except queue.Empty:\n",
      "    ready = None\n",
      "\n",
      "if ready != 'ready':\n",
      "    escape(T, Q, window)\n"
     ],
     "language": "python",
     "metadata": {},
     "outputs": [
      {
       "output_type": "stream",
       "stream": "stderr",
       "text": [
        "Exception in thread Thread-6:\n",
        "Traceback (most recent call last):\n",
        "  File \"/usr/lib/python3.4/threading.py\", line 920, in _bootstrap_inner\n",
        "    self.run()\n",
        "  File \"/usr/lib/python3.4/threading.py\", line 868, in run\n",
        "    self._target(*self._args, **self._kwargs)\n",
        "  File \"<ipython-input-18-3184e3b17971>\", line 18, in render_thread\n",
        "    dtype=numpy.float32);\n",
        "  File \"/home/moshev/Projects/cg2demo/util/glbuffer.py\", line 136, in __setitem__\n",
        "    sz * self.dtype.itemsize, a)\n",
        "  File \"/usr/lib/python3.4/site-packages/OpenGL/latebind.py\", line 61, in __call__\n",
        "    return self.wrapperFunction( self.baseFunction, *args, **named )\n",
        "  File \"/usr/lib/python3.4/site-packages/OpenGL/GL/VERSION/GL_1_5.py\", line 122, in glBufferSubData\n",
        "    data = ArrayDatatype.asArray( data )\n",
        "  File \"/usr/lib/python3.4/site-packages/OpenGL/arrays/arraydatatype.py\", line 149, in asArray\n",
        "    return cls.getHandler(value).asArray( value, typeCode or cls.typeConstant )\n",
        "  File \"/usr/lib/python3.4/site-packages/OpenGL/arrays/numbers.py\", line 59, in asArray\n",
        "    typeCode,\n",
        "TypeError: Don't know how to convert None to an array type\n",
        "\n"
       ]
      }
     ],
     "prompt_number": 20
    },
    {
     "cell_type": "code",
     "collapsed": false,
     "input": [
      "escape(T, Q, window)"
     ],
     "language": "python",
     "metadata": {},
     "outputs": [
      {
       "output_type": "stream",
       "stream": "stderr",
       "text": [
        "Exception in thread Thread-5:\n",
        "Traceback (most recent call last):\n",
        "  File \"/usr/lib/python3.4/threading.py\", line 920, in _bootstrap_inner\n",
        "    self.run()\n",
        "  File \"/usr/lib/python3.4/threading.py\", line 868, in run\n",
        "    self._target(*self._args, **self._kwargs)\n",
        "  File \"<ipython-input-13-0faf2d95aaec>\", line 18, in render_thread\n",
        "    dtype=numpy.float32);\n",
        "  File \"/home/moshev/Projects/cg2demo/util/glbuffer.py\", line 136, in __setitem__\n",
        "    sz * self.dtype.itemsize, a)\n",
        "  File \"/usr/lib/python3.4/site-packages/OpenGL/latebind.py\", line 61, in __call__\n",
        "    return self.wrapperFunction( self.baseFunction, *args, **named )\n",
        "  File \"/usr/lib/python3.4/site-packages/OpenGL/GL/VERSION/GL_1_5.py\", line 122, in glBufferSubData\n",
        "    data = ArrayDatatype.asArray( data )\n",
        "  File \"/usr/lib/python3.4/site-packages/OpenGL/arrays/arraydatatype.py\", line 149, in asArray\n",
        "    return cls.getHandler(value).asArray( value, typeCode or cls.typeConstant )\n",
        "  File \"/usr/lib/python3.4/site-packages/OpenGL/arrays/numbers.py\", line 59, in asArray\n",
        "    typeCode,\n",
        "TypeError: Don't know how to convert None to an array type\n",
        "\n"
       ]
      }
     ],
     "prompt_number": 16
    },
    {
     "cell_type": "code",
     "collapsed": false,
     "input": [],
     "language": "python",
     "metadata": {},
     "outputs": [],
     "prompt_number": 10
    },
    {
     "cell_type": "code",
     "collapsed": false,
     "input": [],
     "language": "python",
     "metadata": {},
     "outputs": []
    }
   ],
   "metadata": {}
  }
 ]
}