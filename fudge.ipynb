{
 "metadata": {
  "name": "",
  "signature": "sha256:67831cbd2027a896017a1ea754f89e5b50058655cfb85d0f78bff520cf1f73b7"
 },
 "nbformat": 3,
 "nbformat_minor": 0,
 "worksheets": [
  {
   "cells": [
    {
     "cell_type": "code",
     "collapsed": false,
     "input": [
      "import sdl2\n",
      "import sys\n",
      "import threading\n",
      "import time\n",
      "import queue\n",
      "from sdl2 import *\n",
      "if (SDL_InitSubSystem(SDL_INIT_VIDEO) != 0):\n",
      "    print(\"WAAH!\")\n",
      "    sys.exit(1);\n"
     ],
     "language": "python",
     "metadata": {},
     "outputs": [],
     "prompt_number": 1
    },
    {
     "cell_type": "code",
     "collapsed": false,
     "input": [
      "\n",
      "def render_thread(window, q):\n",
      "    import time\n",
      "    import queue\n",
      "    import OpenGL\n",
      "    import OpenGL.GL\n",
      "    from OpenGL import GL\n",
      "    escape = False\n",
      "    FRAME_TIME = 1.0 / 60.0\n",
      "    C = SDL_GL_CreateContext(window)\n",
      "    SDL_GL_MakeCurrent(window, C)\n",
      "    GL.glClearColor(0, 0, 0, 1)\n",
      "    while True:\n",
      "        try:\n",
      "            evt = q.get_nowait()\n",
      "        except queue.Empty:\n",
      "            evt = False\n",
      "        if evt == 'escape':\n",
      "            SDL_GL_DeleteContext(C)\n",
      "            return\n",
      "        t_start = time.monotonic()\n",
      "        GL.glClear(GL.GL_COLOR_BUFFER_BIT)\n",
      "        SDL_GL_SwapWindow(window)\n",
      "        t_end = time.monotonic()\n",
      "        t_sleep = FRAME_TIME - (t_end - t_start)\n",
      "        if t_sleep > 0:\n",
      "            time.sleep(t_sleep)"
     ],
     "language": "python",
     "metadata": {},
     "outputs": [],
     "prompt_number": 3
    },
    {
     "cell_type": "code",
     "collapsed": false,
     "input": [
      "def escape(T, Q, window):\n",
      "    Q.put('escape')\n",
      "    try:\n",
      "        T.join()\n",
      "    except Exception as e:\n",
      "        print(e)\n",
      "\n",
      "    SDL_DestroyWindow(window)"
     ],
     "language": "python",
     "metadata": {},
     "outputs": [],
     "prompt_number": 4
    },
    {
     "cell_type": "code",
     "collapsed": false,
     "input": [
      "for channel in (SDL_GL_RED_SIZE, SDL_GL_GREEN_SIZE, SDL_GL_BLUE_SIZE):\n",
      "    SDL_GL_SetAttribute(channel, 8)\n",
      "SDL_GL_SetAttribute(SDL_GL_ACCELERATED_VISUAL, 1)\n",
      "\n",
      "window = SDL_CreateWindow(b\"Super Special Awesome Demo\", SDL_WINDOWPOS_UNDEFINED, SDL_WINDOWPOS_UNDEFINED, 1024, 768,\n",
      "                          SDL_WINDOW_OPENGL | SDL_WINDOW_ALLOW_HIGHDPI | SDL_WINDOW_RESIZABLE)\n",
      "Q = queue.Queue(16)\n",
      "T = threading.Thread(target=render_thread, args=(window,Q))\n",
      "T.start()\n"
     ],
     "language": "python",
     "metadata": {},
     "outputs": [],
     "prompt_number": 5
    },
    {
     "cell_type": "code",
     "collapsed": false,
     "input": [
      "escape(T, Q, window)"
     ],
     "language": "python",
     "metadata": {},
     "outputs": [],
     "prompt_number": 6
    },
    {
     "cell_type": "code",
     "collapsed": false,
     "input": [],
     "language": "python",
     "metadata": {},
     "outputs": []
    }
   ],
   "metadata": {}
  }
 ]
}