{
 "metadata": {
  "name": "",
  "signature": "sha256:b98c9de752273c4ca40446922068f05edd6a14e3e68f4c8b041f46e99343e246"
 },
 "nbformat": 3,
 "nbformat_minor": 0,
 "worksheets": [
  {
   "cells": [
    {
     "cell_type": "code",
     "collapsed": false,
     "input": [
      "import sdl2\n",
      "import sys\n",
      "import threading\n",
      "import time\n",
      "import queue\n",
      "import util\n",
      "import numpy\n",
      "from sdl2 import *\n",
      "if (SDL_InitSubSystem(SDL_INIT_VIDEO) != 0):\n",
      "    print(\"WAAH!\")\n",
      "    sys.exit(1);\n",
      "\n",
      "VS_SRC = br'''\n",
      "#version 120\n",
      "\n",
      "attribute vec2 p;\n",
      "varying vec4 ray;\n",
      "\n",
      "void main() {\n",
      "    vec4 pos = gl_ModelViewProjectionMatrix * vec4(p, 0.0, 1.0);\n",
      "    ray = vec4(vec2(0.5, 0.5) - p, -1.0, 1.0);\n",
      "    ray = normalize(ray);\n",
      "    gl_Position = pos;\n",
      "}\n",
      "'''\n",
      "\n",
      "\n",
      "FS_SRC = br'''\n",
      "#version 120\n",
      "\n",
      "verying vec4 ray;\n",
      "\n",
      "void main() {\n",
      "    gl_FragColor = vec4(0.5, 0.5, -0.5, 1.0) + ray;\n",
      "}\n",
      "'''\n"
     ],
     "language": "python",
     "metadata": {},
     "outputs": [],
     "prompt_number": 1
    },
    {
     "cell_type": "code",
     "collapsed": false,
     "input": [
      "\n",
      "def render_thread(window, qin, qout):\n",
      "    import time\n",
      "    import queue\n",
      "    import OpenGL\n",
      "    import OpenGL.GL\n",
      "    from OpenGL import GL\n",
      "    qout.put('ready1')\n",
      "    escape = False\n",
      "    FRAME_TIME = 1.0 / 60.0\n",
      "    C = SDL_GL_CreateContext(window)\n",
      "    SDL_GL_MakeCurrent(window, C)\n",
      "    GL.glClearColor(0.5, 0, 0, 1)\n",
      "    QUAD = util.GLBuffer(12)\n",
      "    qout.put('ready2')\n",
      "    QUAD[:] = numpy.array([0, 0, 0,\n",
      "                           1, 0, 0,\n",
      "                           1, 1, 0,\n",
      "                           0, 1, 0],\n",
      "            dtype=numpy.float32);\n",
      "    PROG = util.GLProgram(VS_SRC, FS_SRC)\n",
      "    qout.put('ready3')\n",
      "    while True:\n",
      "        try:\n",
      "            evt = qin.get_nowait()\n",
      "        except queue.Empty:\n",
      "            evt = False\n",
      "        if evt == 'escape':\n",
      "            SDL_GL_DeleteContext(C)\n",
      "            return\n",
      "        t_start = time.monotonic()\n",
      "        GL.glClear(GL.GL_COLOR_BUFFER_BIT)\n",
      "        Gl.glUseProgram(PROG.id)\n",
      "        with QUAD.bound:\n",
      "            \n",
      "        GL.glUseProgram(0)\n",
      "        SDL_GL_SwapWindow(window)\n",
      "        t_end = time.monotonic()\n",
      "        t_sleep = FRAME_TIME - (t_end - t_start)\n",
      "        if t_sleep > 0:\n",
      "            time.sleep(t_sleep)"
     ],
     "language": "python",
     "metadata": {},
     "outputs": [],
     "prompt_number": 7
    },
    {
     "cell_type": "code",
     "collapsed": false,
     "input": [
      "def escape(T, Q, window):\n",
      "    Q.put('escape', timeout=1)\n",
      "    try:\n",
      "        T.join(timeout=10)\n",
      "    except Exception as e:\n",
      "        print(e)\n",
      "\n",
      "    SDL_DestroyWindow(window)"
     ],
     "language": "python",
     "metadata": {},
     "outputs": [],
     "prompt_number": 3
    },
    {
     "cell_type": "code",
     "collapsed": false,
     "input": [
      "for channel in (SDL_GL_RED_SIZE, SDL_GL_GREEN_SIZE, SDL_GL_BLUE_SIZE):\n",
      "    SDL_GL_SetAttribute(channel, 8)\n",
      "SDL_GL_SetAttribute(SDL_GL_ACCELERATED_VISUAL, 1)\n",
      "\n",
      "window = SDL_CreateWindow(b\"Super Special Awesome Demo\", SDL_WINDOWPOS_UNDEFINED, SDL_WINDOWPOS_UNDEFINED, 1024, 768,\n",
      "                          SDL_WINDOW_OPENGL | SDL_WINDOW_ALLOW_HIGHDPI | SDL_WINDOW_RESIZABLE)\n",
      "Qin = queue.Queue(1)\n",
      "Qout = queue.Queue(1)\n",
      "T = threading.Thread(target=render_thread, args=(window, Qin, Qout))\n",
      "T.start()\n",
      "\n",
      "for expected in ('ready1', 'ready2', 'ready3'):\n",
      "    try:\n",
      "        ready = Qout.get(timeout=5)\n",
      "    except queue.Empty:\n",
      "        ready = None\n",
      "\n",
      "    print(ready)\n",
      "    \n",
      "    if ready != expected:\n",
      "        escape(T, Qin, window)\n",
      "        break\n"
     ],
     "language": "python",
     "metadata": {},
     "outputs": [
      {
       "output_type": "stream",
       "stream": "stdout",
       "text": [
        "ready1\n",
        "ready2\n",
        "ready3\n"
       ]
      }
     ],
     "prompt_number": 8
    },
    {
     "cell_type": "code",
     "collapsed": false,
     "input": [
      "Qout.get_nowait()"
     ],
     "language": "python",
     "metadata": {},
     "outputs": [
      {
       "ename": "Empty",
       "evalue": "",
       "output_type": "pyerr",
       "traceback": [
        "\u001b[1;31m---------------------------------------------------------------------------\u001b[0m\n\u001b[1;31mEmpty\u001b[0m                                     Traceback (most recent call last)",
        "\u001b[1;32m<ipython-input-5-ba236df8cbe2>\u001b[0m in \u001b[0;36m<module>\u001b[1;34m()\u001b[0m\n\u001b[1;32m----> 1\u001b[1;33m \u001b[0mQout\u001b[0m\u001b[1;33m.\u001b[0m\u001b[0mget_nowait\u001b[0m\u001b[1;33m(\u001b[0m\u001b[1;33m)\u001b[0m\u001b[1;33m\u001b[0m\u001b[0m\n\u001b[0m",
        "\u001b[1;32m/usr/lib/python3.4/queue.py\u001b[0m in \u001b[0;36mget_nowait\u001b[1;34m(self)\u001b[0m\n\u001b[0;32m    193\u001b[0m         \u001b[1;32mraise\u001b[0m \u001b[0mthe\u001b[0m \u001b[0mEmpty\u001b[0m \u001b[0mexception\u001b[0m\u001b[1;33m.\u001b[0m\u001b[1;33m\u001b[0m\u001b[0m\n\u001b[0;32m    194\u001b[0m         '''\n\u001b[1;32m--> 195\u001b[1;33m         \u001b[1;32mreturn\u001b[0m \u001b[0mself\u001b[0m\u001b[1;33m.\u001b[0m\u001b[0mget\u001b[0m\u001b[1;33m(\u001b[0m\u001b[0mblock\u001b[0m\u001b[1;33m=\u001b[0m\u001b[1;32mFalse\u001b[0m\u001b[1;33m)\u001b[0m\u001b[1;33m\u001b[0m\u001b[0m\n\u001b[0m\u001b[0;32m    196\u001b[0m \u001b[1;33m\u001b[0m\u001b[0m\n\u001b[0;32m    197\u001b[0m     \u001b[1;31m# Override these methods to implement other queue organizations\u001b[0m\u001b[1;33m\u001b[0m\u001b[1;33m\u001b[0m\u001b[0m\n",
        "\u001b[1;32m/usr/lib/python3.4/queue.py\u001b[0m in \u001b[0;36mget\u001b[1;34m(self, block, timeout)\u001b[0m\n\u001b[0;32m    162\u001b[0m             \u001b[1;32mif\u001b[0m \u001b[1;32mnot\u001b[0m \u001b[0mblock\u001b[0m\u001b[1;33m:\u001b[0m\u001b[1;33m\u001b[0m\u001b[0m\n\u001b[0;32m    163\u001b[0m                 \u001b[1;32mif\u001b[0m \u001b[1;32mnot\u001b[0m \u001b[0mself\u001b[0m\u001b[1;33m.\u001b[0m\u001b[0m_qsize\u001b[0m\u001b[1;33m(\u001b[0m\u001b[1;33m)\u001b[0m\u001b[1;33m:\u001b[0m\u001b[1;33m\u001b[0m\u001b[0m\n\u001b[1;32m--> 164\u001b[1;33m                     \u001b[1;32mraise\u001b[0m \u001b[0mEmpty\u001b[0m\u001b[1;33m\u001b[0m\u001b[0m\n\u001b[0m\u001b[0;32m    165\u001b[0m             \u001b[1;32melif\u001b[0m \u001b[0mtimeout\u001b[0m \u001b[1;32mis\u001b[0m \u001b[1;32mNone\u001b[0m\u001b[1;33m:\u001b[0m\u001b[1;33m\u001b[0m\u001b[0m\n\u001b[0;32m    166\u001b[0m                 \u001b[1;32mwhile\u001b[0m \u001b[1;32mnot\u001b[0m \u001b[0mself\u001b[0m\u001b[1;33m.\u001b[0m\u001b[0m_qsize\u001b[0m\u001b[1;33m(\u001b[0m\u001b[1;33m)\u001b[0m\u001b[1;33m:\u001b[0m\u001b[1;33m\u001b[0m\u001b[0m\n",
        "\u001b[1;31mEmpty\u001b[0m: "
       ]
      }
     ],
     "prompt_number": 5
    },
    {
     "cell_type": "code",
     "collapsed": false,
     "input": [
      "escape(T, Qin, window)"
     ],
     "language": "python",
     "metadata": {},
     "outputs": [],
     "prompt_number": 9
    },
    {
     "cell_type": "code",
     "collapsed": false,
     "input": [],
     "language": "python",
     "metadata": {},
     "outputs": [],
     "prompt_number": 10
    },
    {
     "cell_type": "code",
     "collapsed": false,
     "input": [],
     "language": "python",
     "metadata": {},
     "outputs": []
    }
   ],
   "metadata": {}
  }
 ]
}